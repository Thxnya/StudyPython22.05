{
 "cells": [
  {
   "cell_type": "code",
   "execution_count": 1,
   "id": "2ebf2ae4",
   "metadata": {},
   "outputs": [],
   "source": [
    "import re"
   ]
  },
  {
   "cell_type": "code",
   "execution_count": 8,
   "id": "59a573cf",
   "metadata": {},
   "outputs": [],
   "source": [
    "a = re.match('Hello','Hello, world!')"
   ]
  },
  {
   "cell_type": "code",
   "execution_count": 9,
   "id": "0f0718be",
   "metadata": {},
   "outputs": [],
   "source": [
    "b = re.match('Python', 'Hello, world!')"
   ]
  },
  {
   "cell_type": "code",
   "execution_count": 10,
   "id": "c3f8e067",
   "metadata": {},
   "outputs": [
    {
     "data": {
      "text/plain": [
       "False"
      ]
     },
     "execution_count": 10,
     "metadata": {},
     "output_type": "execute_result"
    }
   ],
   "source": [
    "a == None"
   ]
  },
  {
   "cell_type": "code",
   "execution_count": 11,
   "id": "1ac2da81",
   "metadata": {},
   "outputs": [
    {
     "data": {
      "text/plain": [
       "True"
      ]
     },
     "execution_count": 11,
     "metadata": {},
     "output_type": "execute_result"
    }
   ],
   "source": [
    "b == None"
   ]
  },
  {
   "cell_type": "code",
   "execution_count": 12,
   "id": "388960bd",
   "metadata": {},
   "outputs": [
    {
     "data": {
      "text/plain": [
       "<re.Match object; span=(0, 5), match='Hello'>"
      ]
     },
     "execution_count": 12,
     "metadata": {},
     "output_type": "execute_result"
    }
   ],
   "source": [
    "re.search('^Hello','Hello, world!')"
   ]
  },
  {
   "cell_type": "code",
   "execution_count": 13,
   "id": "c7ef42e7",
   "metadata": {},
   "outputs": [
    {
     "data": {
      "text/plain": [
       "<re.Match object; span=(7, 13), match='world!'>"
      ]
     },
     "execution_count": 13,
     "metadata": {},
     "output_type": "execute_result"
    }
   ],
   "source": [
    "re.search('world!$','Hello, world!')"
   ]
  },
  {
   "cell_type": "code",
   "execution_count": 14,
   "id": "237daaf2",
   "metadata": {},
   "outputs": [
    {
     "data": {
      "text/plain": [
       "<re.Match object; span=(0, 5), match='Hello'>"
      ]
     },
     "execution_count": 14,
     "metadata": {},
     "output_type": "execute_result"
    }
   ],
   "source": [
    "re.match('Hello|world!','Hello')"
   ]
  },
  {
   "cell_type": "code",
   "execution_count": 15,
   "id": "19200dfd",
   "metadata": {},
   "outputs": [
    {
     "data": {
      "text/plain": [
       "<re.Match object; span=(0, 1), match='h'>"
      ]
     },
     "execution_count": 15,
     "metadata": {},
     "output_type": "execute_result"
    }
   ],
   "source": [
    "re.match('[a-z]', 'hello, world!')"
   ]
  },
  {
   "cell_type": "code",
   "execution_count": 16,
   "id": "1a4e11f6",
   "metadata": {},
   "outputs": [
    {
     "data": {
      "text/plain": [
       "<re.Match object; span=(0, 1), match='h'>"
      ]
     },
     "execution_count": 16,
     "metadata": {},
     "output_type": "execute_result"
    }
   ],
   "source": [
    "# 숫자와 알파벳 둘다 체크\n",
    "re.match('[0-9a-z]', 'hello, world!')"
   ]
  },
  {
   "cell_type": "code",
   "execution_count": 17,
   "id": "9f4aee42",
   "metadata": {},
   "outputs": [],
   "source": [
    "# 숫자가 먼저 나오고 알파벳이 나오는지 체크\n",
    "re.match('[0-9][a-z]', 'hello, world!')"
   ]
  },
  {
   "cell_type": "code",
   "execution_count": 18,
   "id": "2d1c5c88",
   "metadata": {},
   "outputs": [
    {
     "data": {
      "text/plain": [
       "<re.Match object; span=(0, 3), match='hhh'>"
      ]
     },
     "execution_count": 18,
     "metadata": {},
     "output_type": "execute_result"
    }
   ],
   "source": [
    "re.match('h{3}', 'hhhello')"
   ]
  },
  {
   "cell_type": "code",
   "execution_count": 19,
   "id": "5f1f513b",
   "metadata": {},
   "outputs": [
    {
     "data": {
      "text/plain": [
       "<re.Match object; span=(0, 15), match='hellohellohello'>"
      ]
     },
     "execution_count": 19,
     "metadata": {},
     "output_type": "execute_result"
    }
   ],
   "source": [
    "re.match('(hello){3}', 'hellohellohelloworld')"
   ]
  },
  {
   "cell_type": "code",
   "execution_count": 20,
   "id": "41734e71",
   "metadata": {},
   "outputs": [
    {
     "data": {
      "text/plain": [
       "<re.Match object; span=(0, 3), match='홍길동'>"
      ]
     },
     "execution_count": 20,
     "metadata": {},
     "output_type": "execute_result"
    }
   ],
   "source": [
    "re.match('[가-힣]+', '홍길동')"
   ]
  },
  {
   "cell_type": "code",
   "execution_count": 22,
   "id": "8719dc67",
   "metadata": {},
   "outputs": [
    {
     "data": {
      "text/plain": [
       "<re.Match object; span=(5, 9), match='1234'>"
      ]
     },
     "execution_count": 22,
     "metadata": {},
     "output_type": "execute_result"
    }
   ],
   "source": [
    "re.search('[0-9]+$', 'Hello1234')"
   ]
  },
  {
   "cell_type": "code",
   "execution_count": 23,
   "id": "10a5b37c",
   "metadata": {},
   "outputs": [
    {
     "data": {
      "text/plain": [
       "<re.Match object; span=(2, 4), match='**'>"
      ]
     },
     "execution_count": 23,
     "metadata": {},
     "output_type": "execute_result"
    }
   ],
   "source": [
    "re.search('\\*+', '1 ** 2')"
   ]
  },
  {
   "cell_type": "code",
   "execution_count": 25,
   "id": "9016c85a",
   "metadata": {},
   "outputs": [
    {
     "data": {
      "text/plain": [
       "<re.Match object; span=(2, 3), match='*'>"
      ]
     },
     "execution_count": 25,
     "metadata": {},
     "output_type": "execute_result"
    }
   ],
   "source": [
    "re.search('\\*', '1 ** 2')"
   ]
  },
  {
   "cell_type": "code",
   "execution_count": 26,
   "id": "9de1238e",
   "metadata": {},
   "outputs": [],
   "source": [
    "p = re.compile('[0-9]+')"
   ]
  },
  {
   "cell_type": "code",
   "execution_count": 32,
   "id": "433024b3",
   "metadata": {},
   "outputs": [
    {
     "data": {
      "text/plain": [
       "<re.Match object; span=(0, 4), match='1234'>"
      ]
     },
     "execution_count": 32,
     "metadata": {},
     "output_type": "execute_result"
    }
   ],
   "source": [
    "p.match('1234')"
   ]
  },
  {
   "cell_type": "code",
   "execution_count": 33,
   "id": "f4207f5a",
   "metadata": {},
   "outputs": [
    {
     "data": {
      "text/plain": [
       "<re.Match object; span=(5, 9), match='5136'>"
      ]
     },
     "execution_count": 33,
     "metadata": {},
     "output_type": "execute_result"
    }
   ],
   "source": [
    "p.search('hello5136')"
   ]
  },
  {
   "cell_type": "code",
   "execution_count": 36,
   "id": "17aa30df",
   "metadata": {},
   "outputs": [
    {
     "data": {
      "text/plain": [
       "['1', '2', '4', '7', '89']"
      ]
     },
     "execution_count": 36,
     "metadata": {},
     "output_type": "execute_result"
    }
   ],
   "source": [
    "re.findall('[0-9]+', '1 2 Fizz 4 Buzz Fizz 7 89') # 조건에 맞는 문자열을 리스트로 반환"
   ]
  },
  {
   "cell_type": "code",
   "execution_count": 37,
   "id": "3b3c36a8",
   "metadata": {},
   "outputs": [
    {
     "data": {
      "text/plain": [
       "'fruit box fruit tree'"
      ]
     },
     "execution_count": 37,
     "metadata": {},
     "output_type": "execute_result"
    }
   ],
   "source": [
    "re.sub('apple|orange', 'fruit', 'apple box orange tree')"
   ]
  },
  {
   "cell_type": "code",
   "execution_count": 39,
   "id": "60388b05",
   "metadata": {},
   "outputs": [
    {
     "data": {
      "text/plain": [
       "'n n Fizz n Buzz Fizz n n'"
      ]
     },
     "execution_count": 39,
     "metadata": {},
     "output_type": "execute_result"
    }
   ],
   "source": [
    "re.sub('[0-9]+', 'n', '1 2 Fizz 4 Buzz Fizz 7 89')"
   ]
  },
  {
   "cell_type": "code",
   "execution_count": 53,
   "id": "498fdc77",
   "metadata": {},
   "outputs": [
    {
     "name": "stdout",
     "output_type": "stream",
     "text": [
      "True True True True True False False False "
     ]
    }
   ],
   "source": [
    "p = re.compile('^[+-_.a-zA-z0-9]+@[-a-z]+\\.[a-z.]+$')\n",
    "\n",
    "emails = ['Python@mail.example.com', 'python+kr@example.com', \n",
    "          'python-dojang@example.co.kr', 'python_10@example.info', \n",
    "          'python.dojang@e-xample.com', \n",
    "          '@example.com', 'python@example', 'python@example-com']\n",
    "\n",
    "for email in emails:\n",
    "    print(p.match(email) != None, end = ' ')"
   ]
  }
 ],
 "metadata": {
  "kernelspec": {
   "display_name": "Python 3 (ipykernel)",
   "language": "python",
   "name": "python3"
  },
  "language_info": {
   "codemirror_mode": {
    "name": "ipython",
    "version": 3
   },
   "file_extension": ".py",
   "mimetype": "text/x-python",
   "name": "python",
   "nbconvert_exporter": "python",
   "pygments_lexer": "ipython3",
   "version": "3.9.12"
  }
 },
 "nbformat": 4,
 "nbformat_minor": 5
}
