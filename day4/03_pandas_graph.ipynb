{
 "cells": [
  {
   "cell_type": "code",
   "execution_count": 8,
   "id": "b054239c",
   "metadata": {},
   "outputs": [],
   "source": [
    "import pandas as pd\n",
    "import seaborn as sns\n",
    "%matplotlib inline\n",
    "import matplotlib.pyplot as plt"
   ]
  },
  {
   "cell_type": "code",
   "execution_count": 6,
   "id": "0aa1bdff",
   "metadata": {},
   "outputs": [
    {
     "name": "stdout",
     "output_type": "stream",
     "text": [
      "   dataset     x      y\n",
      "0        I  10.0   8.04\n",
      "1        I   8.0   6.95\n",
      "2        I  13.0   7.58\n",
      "3        I   9.0   8.81\n",
      "4        I  11.0   8.33\n",
      "5        I  14.0   9.96\n",
      "6        I   6.0   7.24\n",
      "7        I   4.0   4.26\n",
      "8        I  12.0  10.84\n",
      "9        I   7.0   4.82\n",
      "10       I   5.0   5.68\n",
      "11      II  10.0   9.14\n",
      "12      II   8.0   8.14\n",
      "13      II  13.0   8.74\n",
      "14      II   9.0   8.77\n",
      "15      II  11.0   9.26\n",
      "16      II  14.0   8.10\n",
      "17      II   6.0   6.13\n",
      "18      II   4.0   3.10\n",
      "19      II  12.0   9.13\n",
      "20      II   7.0   7.26\n",
      "21      II   5.0   4.74\n",
      "22     III  10.0   7.46\n",
      "23     III   8.0   6.77\n",
      "24     III  13.0  12.74\n",
      "25     III   9.0   7.11\n",
      "26     III  11.0   7.81\n",
      "27     III  14.0   8.84\n",
      "28     III   6.0   6.08\n",
      "29     III   4.0   5.39\n",
      "30     III  12.0   8.15\n",
      "31     III   7.0   6.42\n",
      "32     III   5.0   5.73\n",
      "33      IV   8.0   6.58\n",
      "34      IV   8.0   5.76\n",
      "35      IV   8.0   7.71\n",
      "36      IV   8.0   8.84\n",
      "37      IV   8.0   8.47\n",
      "38      IV   8.0   7.04\n",
      "39      IV   8.0   5.25\n",
      "40      IV  19.0  12.50\n",
      "41      IV   8.0   5.56\n",
      "42      IV   8.0   7.91\n",
      "43      IV   8.0   6.89\n",
      "<class 'pandas.core.frame.DataFrame'>\n"
     ]
    }
   ],
   "source": [
    "anscombe = sns.load_dataset('anscombe')\n",
    "print(anscombe)\n",
    "print(type(anscombe))"
   ]
  },
  {
   "cell_type": "code",
   "execution_count": 13,
   "id": "675c510b",
   "metadata": {},
   "outputs": [
    {
     "data": {
      "image/png": "[encoded data removed]",
      "text/plain": [
       "<Figure size 432x288 with 1 Axes>"
      ]
     },
     "metadata": {
      "needs_background": "light"
     },
     "output_type": "display_data"
    }
   ],
   "source": [
    "dataset_1 = anscombe[anscombe['dataset'] == 'I']\n",
    "plt.plot(dataset_1['x'], dataset_1['y'], 'ro')\n",
    "plt.show()"
   ]
  },
  {
   "cell_type": "code",
   "execution_count": 16,
   "id": "30a3e5f0",
   "metadata": {},
   "outputs": [],
   "source": [
    "dataset_1 = anscombe[anscombe['dataset'] == 'I']\n",
    "dataset_2 = anscombe[anscombe['dataset'] == 'II']\n",
    "dataset_3 = anscombe[anscombe['dataset'] == 'III']\n",
    "dataset_4 = anscombe[anscombe['dataset'] == 'IV']"
   ]
  },
  {
   "cell_type": "code",
   "execution_count": 17,
   "id": "77bb625c",
   "metadata": {},
   "outputs": [
    {
     "data": {
      "image/png": "[encoded data removed]",
      "text/plain": [
       "<Figure size 432x288 with 4 Axes>"
      ]
     },
     "metadata": {
      "needs_background": "light"
     },
     "output_type": "display_data"
    }
   ],
   "source": [
    "fig = plt.figure() # 그래프 기본 틀 생성\n",
    "axes1 = fig.add_subplot(2,2,1) # row, col, index\n",
    "axes2 = fig.add_subplot(2,2,2)\n",
    "axes3 = fig.add_subplot(2,2,3)\n",
    "axes4 = fig.add_subplot(2,2,4)"
   ]
  },
  {
   "cell_type": "code",
   "execution_count": 18,
   "id": "87daba27",
   "metadata": {},
   "outputs": [
    {
     "data": {
      "image/png": "[encoded data removed]",
      "text/plain": [
       "<Figure size 432x288 with 4 Axes>"
      ]
     },
     "execution_count": 18,
     "metadata": {},
     "output_type": "execute_result"
    }
   ],
   "source": [
    "axes1.plot(dataset_1['x'], dataset_1['y'], 'ro')\n",
    "axes2.plot(dataset_2['x'], dataset_2['y'], 'go')\n",
    "axes3.plot(dataset_3['x'], dataset_3['y'], 'bo')\n",
    "axes4.plot(dataset_4['x'], dataset_4['y'], 'yo')\n",
    "\n",
    "fig"
   ]
  },
  {
   "cell_type": "code",
   "execution_count": null,
   "id": "8f2b178d",
   "metadata": {},
   "outputs": [],
   "source": []
  }
 ],
 "metadata": {
  "kernelspec": {
   "display_name": "Python 3 (ipykernel)",
   "language": "python",
   "name": "python3"
  },
  "language_info": {
   "codemirror_mode": {
    "name": "ipython",
    "version": 3
   },
   "file_extension": ".py",
   "mimetype": "text/x-python",
   "name": "python",
   "nbconvert_exporter": "python",
   "pygments_lexer": "ipython3",
   "version": "3.9.12"
  }
 },
 "nbformat": 4,
 "nbformat_minor": 5
}
