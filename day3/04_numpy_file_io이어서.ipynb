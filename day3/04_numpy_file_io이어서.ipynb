{
 "cells": [
  {
   "cell_type": "code",
   "execution_count": 2,
   "id": "92fad6e1",
   "metadata": {},
   "outputs": [],
   "source": [
    "import numpy as np"
   ]
  },
  {
   "cell_type": "code",
   "execution_count": 3,
   "id": "1cb525d3",
   "metadata": {},
   "outputs": [
    {
     "name": "stdout",
     "output_type": "stream",
     "text": [
      "[[-0.03617418 -0.73458597 -0.02506726 -0.01321246 -0.85569237]\n",
      " [-0.63501333  0.55999487 -0.5386968   0.091805   -1.17119426]\n",
      " [ 1.16655155 -0.66508996 -0.68519324 -1.01036698  0.22289377]]\n"
     ]
    }
   ],
   "source": [
    "n = np.random.randn(3,5)\n",
    "print(n)\n",
    "n.tofile('n.npy')"
   ]
  },
  {
   "cell_type": "code",
   "execution_count": 4,
   "id": "fd7f7e05",
   "metadata": {},
   "outputs": [
    {
     "name": "stdout",
     "output_type": "stream",
     "text": [
      "[[-0.03617418 -0.73458597 -0.02506726 -0.01321246 -0.85569237]\n",
      " [-0.63501333  0.55999487 -0.5386968   0.091805   -1.17119426]\n",
      " [ 1.16655155 -0.66508996 -0.68519324 -1.01036698  0.22289377]]\n"
     ]
    }
   ],
   "source": [
    "m = np.fromfile('n.npy').reshape(3,5) # shape(3,5)\n",
    "print(m)"
   ]
  },
  {
   "cell_type": "code",
   "execution_count": 5,
   "id": "844681bd",
   "metadata": {},
   "outputs": [
    {
     "name": "stdout",
     "output_type": "stream",
     "text": [
      "[[-0.03617418 -0.73458597 -0.02506726 -0.01321246 -0.85569237]\n",
      " [-0.63501333  0.55999487 -0.5386968   0.091805   -1.17119426]\n",
      " [ 1.16655155 -0.66508996 -0.68519324 -1.01036698  0.22289377]]\n"
     ]
    }
   ],
   "source": [
    "np.save('n1.npy',n)\n",
    "m1 = np.load('n1.npy')\n",
    "print(m1)"
   ]
  },
  {
   "cell_type": "code",
   "execution_count": 6,
   "id": "24d383e8",
   "metadata": {},
   "outputs": [
    {
     "ename": "ValueError",
     "evalue": "Cannot load file containing pickled data when allow_pickle=False",
     "output_type": "error",
     "traceback": [
      "\u001b[1;31m---------------------------------------------------------------------------\u001b[0m",
      "\u001b[1;31mValueError\u001b[0m                                Traceback (most recent call last)",
      "Input \u001b[1;32mIn [6]\u001b[0m, in \u001b[0;36m<cell line: 4>\u001b[1;34m()\u001b[0m\n\u001b[0;32m      1\u001b[0m \u001b[38;5;66;03m# n.tofile로 만든 n.npy는 np.load로 열리지않음\u001b[39;00m\n\u001b[0;32m      2\u001b[0m \u001b[38;5;66;03m# no.tofile - no.fromfile\u001b[39;00m\n\u001b[0;32m      3\u001b[0m \u001b[38;5;66;03m# np.save - np.load\u001b[39;00m\n\u001b[1;32m----> 4\u001b[0m \u001b[43mnp\u001b[49m\u001b[38;5;241;43m.\u001b[39;49m\u001b[43mload\u001b[49m\u001b[43m(\u001b[49m\u001b[38;5;124;43m'\u001b[39;49m\u001b[38;5;124;43mn.npy\u001b[39;49m\u001b[38;5;124;43m'\u001b[39;49m\u001b[43m)\u001b[49m\n",
      "File \u001b[1;32mC:\\DEV\\Tools\\anaconda3\\lib\\site-packages\\numpy\\lib\\npyio.py:445\u001b[0m, in \u001b[0;36mload\u001b[1;34m(file, mmap_mode, allow_pickle, fix_imports, encoding)\u001b[0m\n\u001b[0;32m    442\u001b[0m \u001b[38;5;28;01melse\u001b[39;00m:\n\u001b[0;32m    443\u001b[0m     \u001b[38;5;66;03m# Try a pickle\u001b[39;00m\n\u001b[0;32m    444\u001b[0m     \u001b[38;5;28;01mif\u001b[39;00m \u001b[38;5;129;01mnot\u001b[39;00m allow_pickle:\n\u001b[1;32m--> 445\u001b[0m         \u001b[38;5;28;01mraise\u001b[39;00m \u001b[38;5;167;01mValueError\u001b[39;00m(\u001b[38;5;124m\"\u001b[39m\u001b[38;5;124mCannot load file containing pickled data \u001b[39m\u001b[38;5;124m\"\u001b[39m\n\u001b[0;32m    446\u001b[0m                          \u001b[38;5;124m\"\u001b[39m\u001b[38;5;124mwhen allow_pickle=False\u001b[39m\u001b[38;5;124m\"\u001b[39m)\n\u001b[0;32m    447\u001b[0m     \u001b[38;5;28;01mtry\u001b[39;00m:\n\u001b[0;32m    448\u001b[0m         \u001b[38;5;28;01mreturn\u001b[39;00m pickle\u001b[38;5;241m.\u001b[39mload(fid, \u001b[38;5;241m*\u001b[39m\u001b[38;5;241m*\u001b[39mpickle_kwargs)\n",
      "\u001b[1;31mValueError\u001b[0m: Cannot load file containing pickled data when allow_pickle=False"
     ]
    }
   ],
   "source": [
    "# n.tofile로 만든 n.npy는 np.load로 열리지않음\n",
    "# no.tofile - no.fromfile\n",
    "# np.save - np.load\n",
    "np.load('n.npy')"
   ]
  },
  {
   "cell_type": "code",
   "execution_count": 15,
   "id": "1da2ae70",
   "metadata": {},
   "outputs": [
    {
     "data": {
      "text/plain": [
       "array([['-3.617417880241372702e-02', '-7.345859715562542691e-01',\n",
       "        '-2.506725900229291384e-02', '-1.321246399145614009e-02',\n",
       "        '-8.556923712149462347e-01'],\n",
       "       ['-6.350133324946821700e-01', '5.599948717021822064e-01',\n",
       "        '-5.386967951327155113e-01', '9.180499522844888516e-02',\n",
       "        '-1.171194261597337860e+00'],\n",
       "       ['1.166551547348195772e+00', '-6.650899624000465860e-01',\n",
       "        '-6.851932355804999375e-01', '-1.010366976400092209e+00',\n",
       "        '2.228937680217256689e-01']], dtype='<U25')"
      ]
     },
     "execution_count": 15,
     "metadata": {},
     "output_type": "execute_result"
    }
   ],
   "source": [
    "np.savetxt('n.txt',n)\n",
    "np.loadtxt('n.txt', dtype = str)"
   ]
  },
  {
   "cell_type": "code",
   "execution_count": 14,
   "id": "7eb14a79",
   "metadata": {},
   "outputs": [
    {
     "data": {
      "text/plain": [
       "array([[-0.03617418, -0.73458597, -0.02506726, -0.01321246, -0.85569237],\n",
       "       [-0.63501333,  0.55999487, -0.5386968 ,  0.091805  , -1.17119426],\n",
       "       [ 1.16655155, -0.66508996, -0.68519324, -1.01036698,  0.22289377]])"
      ]
     },
     "execution_count": 14,
     "metadata": {},
     "output_type": "execute_result"
    }
   ],
   "source": [
    "# np.savetxt('n.csv',n) csv파일이지만 공백으로 값이 구분됨\n",
    "np.savetxt('n.csv', n, delimiter = ',') # 값의 구분자를 ,로 지정\n",
    "np.loadtxt('n.csv', delimiter = ',')"
   ]
  },
  {
   "cell_type": "code",
   "execution_count": 36,
   "id": "052af9a0",
   "metadata": {
    "scrolled": true
   },
   "outputs": [
    {
     "data": {
      "text/plain": [
       "array([[ 1,  2,  3,  4,  5],\n",
       "       [ 6,  7,  8,  9, 10],\n",
       "       [11, 12, 13, 14, 15],\n",
       "       [16, 17, 18, 19, 20],\n",
       "       [21, 22, 23, 24, 25]])"
      ]
     },
     "execution_count": 36,
     "metadata": {},
     "output_type": "execute_result"
    }
   ],
   "source": [
    "# 1번 문제\n",
    "a = np.arange(1,26).reshape(5,5)\n",
    "np.savetxt('data.csv', a, delimiter = ',')\n",
    "np.loadtxt('data.csv', delimiter = ',', dtype = int8)"
   ]
  },
  {
   "cell_type": "code",
   "execution_count": 41,
   "id": "81ce68db",
   "metadata": {},
   "outputs": [
    {
     "name": "stdout",
     "output_type": "stream",
     "text": [
      "[['1' '15' '14' '4']\n",
      " ['12' '6' '7' '9']\n",
      " ['8' '10' '11' '5']\n",
      " ['13' '3' '2' '16']]\n"
     ]
    }
   ],
   "source": [
    "# 2번 문제\n",
    "arr1 = np.loadtxt('C:/DEV/STUDY/StudyPython22.05/data/06_data1.txt', delimiter = '\\t', dtype = str) # 구분자가 tab으로 되어있음\n",
    "print(arr1)"
   ]
  },
  {
   "cell_type": "code",
   "execution_count": 44,
   "id": "b739e71f",
   "metadata": {},
   "outputs": [
    {
     "name": "stdout",
     "output_type": "stream",
     "text": [
      "[[ 1 15 14  4]\n",
      " [12  6  7  9]\n",
      " [ 8 10 11  5]\n",
      " [13  3  2 16]]\n"
     ]
    }
   ],
   "source": [
    "# 3번 문제\n",
    "arr2 = np.loadtxt('C:/DEV/STUDY/StudyPython22.05/data/06_data2.txt', delimiter = ',', dtype=np.int8)\n",
    "print(arr2)"
   ]
  },
  {
   "cell_type": "code",
   "execution_count": 48,
   "id": "8b986041",
   "metadata": {},
   "outputs": [
    {
     "name": "stdout",
     "output_type": "stream",
     "text": [
      "[[      1  565082     273   27177]\n",
      " [      2 2827233     444   45111]\n",
      " [      3 1144913     289   29043]\n",
      " [      4 1131034     230   22436]\n",
      " [      5  380425     391   38020]]\n"
     ]
    }
   ],
   "source": [
    "## 파일 처리\n",
    "# 1)파일 읽어오기\n",
    "data = np.loadtxt('C:/DEV/STUDY/StudyPython22.05/data/ex1_지역별전기요금.csv', \n",
    "                  delimiter = ',', \n",
    "                  dtype = int)\n",
    "print(data[:5,:]) # 상위 5개 데이터 출력"
   ]
  },
  {
   "cell_type": "code",
   "execution_count": 67,
   "id": "20e63292",
   "metadata": {},
   "outputs": [
    {
     "name": "stdout",
     "output_type": "stream",
     "text": [
      "(17, 4)\n",
      "[ 1  2  3  4  5  6  7  8  9 10 11 12 13 14 15 16 17]\n"
     ]
    }
   ],
   "source": [
    "# 2) 데이터 모양 확인\n",
    "print(data.shape)\n",
    "\n",
    "# 중복 지역 확인\n",
    "print(np.unique(data[:,0]))"
   ]
  },
  {
   "cell_type": "code",
   "execution_count": 68,
   "id": "e5e2d713",
   "metadata": {},
   "outputs": [
    {
     "name": "stdout",
     "output_type": "stream",
     "text": [
      "[ 9 14 10  4  6  0 16 13  5 12 11 15  7  3  2  8  1]\n",
      "[ 1  8  2  3  7 15 11 12  5 13 16  0  6  4 10 14  9]\n",
      "[[     10   49394     580   57091]\n",
      " [     15  258605     221   22180]\n",
      " [     11  323151     353   35470]\n",
      " [      5  380425     391   38020]\n",
      " [      7  425659     344   32331]\n",
      " [      1  565082     273   27177]\n",
      " [     17  584500     268   26899]\n",
      " [     14  634696     285   28556]\n",
      " [      6  668623     364   35245]\n",
      " [     13  726699     249   25120]\n",
      " [     12  734723     398   40049]\n",
      " [     16  742285     282   27901]\n",
      " [      8  947300     366   36274]\n",
      " [      4 1131034     230   22436]\n",
      " [      3 1144913     289   29043]\n",
      " [      9 2737725     361   36569]\n",
      " [      2 2827233     444   45111]]\n",
      "[[      2 2827233     444   45111]\n",
      " [      9 2737725     361   36569]\n",
      " [      3 1144913     289   29043]\n",
      " [      4 1131034     230   22436]\n",
      " [      8  947300     366   36274]\n",
      " [     16  742285     282   27901]\n",
      " [     12  734723     398   40049]\n",
      " [     13  726699     249   25120]\n",
      " [      6  668623     364   35245]\n",
      " [     14  634696     285   28556]\n",
      " [     17  584500     268   26899]\n",
      " [      1  565082     273   27177]\n",
      " [      7  425659     344   32331]\n",
      " [      5  380425     391   38020]\n",
      " [     11  323151     353   35470]\n",
      " [     15  258605     221   22180]\n",
      " [     10   49394     580   57091]]\n"
     ]
    }
   ],
   "source": [
    "# 데이터의 크기순 정렬 (argsort 사용)\n",
    "print(data[:,1].argsort()) # 값의 크기 오름차순으로 정렬하여 index를 뽑아줌\n",
    "print(data[:,1].argsort()[::-1]) # 내림차순\n",
    "\n",
    "# fancy index\n",
    "print(data[data[:,1].argsort()])\n",
    "print(data[data[:,1].argsort()[::-1]]) # 내림차순"
   ]
  },
  {
   "cell_type": "code",
   "execution_count": 69,
   "id": "fb7074dc",
   "metadata": {},
   "outputs": [
    {
     "name": "stdout",
     "output_type": "stream",
     "text": [
      "14882047\n",
      "335.18\n",
      "335.18\n"
     ]
    }
   ],
   "source": [
    "# 3) 데이터 통계\n",
    "# 전국 대상 가구수의 합\n",
    "print(np.sum(data[:,1]))\n",
    "\n",
    "# 가구당 평균 전력 사용량의 전국 평균값\n",
    "print(round(data[:,2].mean(), 2))\n",
    "\n",
    "# 평균 구하기(좋지않은 방법?)\n",
    "e_sum = np.sum(data[:,2])\n",
    "n_rows = data.shape[0]\n",
    "print(round(e_sum / n_rows,2))"
   ]
  },
  {
   "cell_type": "code",
   "execution_count": 111,
   "id": "b8033612",
   "metadata": {},
   "outputs": [
    {
     "name": "stdout",
     "output_type": "stream",
     "text": [
      "[[      2 2827233]\n",
      " [      5  380425]\n",
      " [      6  668623]\n",
      " [      7  425659]\n",
      " [      8  947300]\n",
      " [      9 2737725]\n",
      " [     10   49394]\n",
      " [     11  323151]\n",
      " [     12  734723]]\n"
     ]
    }
   ],
   "source": [
    "# 가구당 평균 전력 사용량이 평균 이상인 지역과 대상 가구수 추출\n",
    "avg = data[:,2].mean() # 가구당 평균 전력 사용량의 전국 평균\n",
    "print(data[data[:,2]>=avg, 0:2])"
   ]
  },
  {
   "cell_type": "code",
   "execution_count": 146,
   "id": "36a9581b",
   "metadata": {},
   "outputs": [
    {
     "name": "stdout",
     "output_type": "stream",
     "text": [
      "(17, 6)\n",
      "[ 1.  2.  3.  4.  5.  6.  7.  8.  9. 10. 11. 12. 13. 14. 15. 16. 17.]\n",
      "[[2014.   218.     4.8]\n",
      " [2014.   872.    19. ]\n",
      " [2014.   401.     8.7]]\n"
     ]
    }
   ],
   "source": [
    "## 파일2 직접 해보기\n",
    "# 1번 문제 위 파일을 읽어오고 상위 3개의 (발생년도, 발생건수, 구성비) 데이터를 추출하기\n",
    "data2 = np.loadtxt('C:/DEV/STUDY/StudyPython22.05/data/ex2_전년대비_시도별_교통사망사고.csv', delimiter = ',')\n",
    "print(data2.shape)\n",
    "print(np.unique(data2[:,1]))\n",
    "print(data2[:3,[0,2,3]])"
   ]
  },
  {
   "cell_type": "code",
   "execution_count": 148,
   "id": "10b014ac",
   "metadata": {},
   "outputs": [
    {
     "name": "stdout",
     "output_type": "stream",
     "text": [
      "[[2014.     8.   163.     3.6  -47.   -22.4]]\n"
     ]
    }
   ],
   "source": [
    "# 2번 문제 부산에서 발생한 교통사망사고 모든 현황을 추출하기\n",
    "print(data2[data2[:,1]==8,:])"
   ]
  },
  {
   "cell_type": "code",
   "execution_count": 90,
   "id": "f6efcacb",
   "metadata": {},
   "outputs": [
    {
     "name": "stdout",
     "output_type": "stream",
     "text": [
      "4583.0\n",
      "269.59\n"
     ]
    }
   ],
   "source": [
    "# 3번 문제 전국 사고 발생건수의 합계와 전국 평균 계산하기\n",
    "# 합계\n",
    "print(data2[:,2].sum())\n",
    "# 평균\n",
    "print(round(data2[:,2].mean(),2))"
   ]
  },
  {
   "cell_type": "code",
   "execution_count": 93,
   "id": "48e5e487",
   "metadata": {},
   "outputs": [
    {
     "name": "stdout",
     "output_type": "stream",
     "text": [
      "[2014.     6.   182.     4.    19.    11.7]\n"
     ]
    }
   ],
   "source": [
    "# 4번 문제 교통사고 증감수가 가장 큰 지역의 모든 현황을 추출하기\n",
    "print(data2[data2[:,4].argmax(),:])"
   ]
  },
  {
   "cell_type": "code",
   "execution_count": 95,
   "id": "aebea984",
   "metadata": {},
   "outputs": [
    {
     "name": "stdout",
     "output_type": "stream",
     "text": [
      "[2014.     8.   163.     3.6  -47.   -22.4]\n"
     ]
    }
   ],
   "source": [
    "# 5번 문제 교통사고 증감률이 가장 작은 지역의 모든 현황을 추출하기\n",
    "print(data2[data2[:,5].argmin(),:])"
   ]
  },
  {
   "cell_type": "code",
   "execution_count": 143,
   "id": "2c0e1710",
   "metadata": {},
   "outputs": [
    {
     "name": "stdout",
     "output_type": "stream",
     "text": [
      "[[  2.  872.  -45.   -4.9]\n",
      " [  3.  401.  -45.  -10.1]\n",
      " [  4.  464.  -41.   -8.1]\n",
      " [ 13.  400.  -35.   -8. ]]\n"
     ]
    }
   ],
   "source": [
    "# 6번 문제 사고 발생 건수가 400건 이상인 곳의 지역과 교통사고 발생건수, 증감수, 증감률을 추출하기\n",
    "a = data2[data2[:,2] >= 400, :]\n",
    "print(a[:,[1,2,4,5]])"
   ]
  }
 ],
 "metadata": {
  "kernelspec": {
   "display_name": "Python 3 (ipykernel)",
   "language": "python",
   "name": "python3"
  },
  "language_info": {
   "codemirror_mode": {
    "name": "ipython",
    "version": 3
   },
   "file_extension": ".py",
   "mimetype": "text/x-python",
   "name": "python",
   "nbconvert_exporter": "python",
   "pygments_lexer": "ipython3",
   "version": "3.9.12"
  }
 },
 "nbformat": 4,
 "nbformat_minor": 5
}
