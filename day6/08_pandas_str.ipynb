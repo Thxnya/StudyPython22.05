{
 "cells": [
  {
   "cell_type": "code",
   "execution_count": 2,
   "id": "7dad8b4b",
   "metadata": {},
   "outputs": [],
   "source": [
    "import pandas as pd"
   ]
  },
  {
   "cell_type": "code",
   "execution_count": null,
   "id": "a4b3cebd",
   "metadata": {},
   "outputs": [],
   "source": [
    "# 첫 문자를 대문자로 변환\n",
    "a. capitalize()\n",
    "\n",
    "# 문자의 개수를 문자열에서 찾아서 카운트\n",
    "a.count()\n",
    "\n",
    "# 문자열에서 문자를 찾아서 인덱스를 반환\n",
    "a.find()\n",
    "\n",
    "# find와 동일한데 실패시 ValueError 반환\n",
    "a.index()\n",
    "\n",
    "# 문자를 대문자로 변환\n",
    "a.upper()\n",
    "\n",
    "# 문자를 소문자로 변환\n",
    "a.lower()\n",
    "\n",
    "# 특정 문자를 다른 문자로 변환\n",
    "a.replace('abc', '123') # abc를 123으로\n",
    "\n",
    "# 문자의 앞, 뒤 공간의 빈 공간을 없애는 함수\n",
    "a.strip()\n",
    "\n",
    "# 문자를 특정 구간으로 잘라주는 함수 > 리스트로 저장\n",
    "a.split()\n",
    "\n",
    "# 리스트에 있는 문자열을 하나로 합쳐주는 함수\n",
    "''.join(a)"
   ]
  },
  {
   "cell_type": "code",
   "execution_count": 3,
   "id": "0d92e45d",
   "metadata": {},
   "outputs": [
    {
     "name": "stdout",
     "output_type": "stream",
     "text": [
      "It's just a flesh wound!\n"
     ]
    }
   ],
   "source": [
    "var = 'flesh wound'\n",
    "s = \"It's just a {}!\"\n",
    "\n",
    "print(s.format(var))"
   ]
  },
  {
   "cell_type": "code",
   "execution_count": null,
   "id": "a65f71c2",
   "metadata": {},
   "outputs": [],
   "source": [
    "# %d : int, %s : string, %f : float"
   ]
  }
 ],
 "metadata": {
  "kernelspec": {
   "display_name": "Python 3 (ipykernel)",
   "language": "python",
   "name": "python3"
  },
  "language_info": {
   "codemirror_mode": {
    "name": "ipython",
    "version": 3
   },
   "file_extension": ".py",
   "mimetype": "text/x-python",
   "name": "python",
   "nbconvert_exporter": "python",
   "pygments_lexer": "ipython3",
   "version": "3.9.12"
  }
 },
 "nbformat": 4,
 "nbformat_minor": 5
}
