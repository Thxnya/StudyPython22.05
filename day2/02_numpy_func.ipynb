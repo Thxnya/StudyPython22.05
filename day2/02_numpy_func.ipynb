{
 "cells": [
  {
   "cell_type": "code",
   "execution_count": 13,
   "id": "4c5048d6",
   "metadata": {},
   "outputs": [],
   "source": [
    "import numpy as np"
   ]
  },
  {
   "cell_type": "code",
   "execution_count": 14,
   "id": "0f163ff3",
   "metadata": {},
   "outputs": [
    {
     "name": "stdout",
     "output_type": "stream",
     "text": [
      "[[1 2 3]\n",
      " [4 5 6]]\n",
      "[[1 2]\n",
      " [3 4]\n",
      " [5 6]]\n",
      "[[1 2 3 4 5 6]]\n",
      "[[1]\n",
      " [2]\n",
      " [3]\n",
      " [4]\n",
      " [5]\n",
      " [6]]\n"
     ]
    }
   ],
   "source": [
    "# 요소 개수에 맞게 입력해줘야 함\n",
    "arr = np.array([[1,2,3],[4,5,6]])\n",
    "print(arr)\n",
    "print(arr.reshape(3,2))\n",
    "print(arr.reshape(1,6))\n",
    "print(arr.reshape(6,1))"
   ]
  },
  {
   "cell_type": "code",
   "execution_count": 15,
   "id": "f239ea24",
   "metadata": {},
   "outputs": [
    {
     "name": "stdout",
     "output_type": "stream",
     "text": [
      "[[[1 2]]\n",
      "\n",
      " [[3 4]]\n",
      "\n",
      " [[5 6]]]\n",
      "[[1 2]\n",
      " [3 4]\n",
      " [5 6]]\n",
      "[1 2 3 4 5 6]\n"
     ]
    }
   ],
   "source": [
    "# 3 x 1 x 2  배열로 변형\n",
    "print(arr.reshape(3,1,2))\n",
    "\n",
    "# ? x 2 배열로 변형(열은 맞추고 싶은데 행개수는 모를때)\n",
    "print(arr.reshape(-1,2))\n",
    "\n",
    "# 차원줄이기\n",
    "print(arr.reshape(6,))"
   ]
  },
  {
   "cell_type": "code",
   "execution_count": 24,
   "id": "7427de6b",
   "metadata": {},
   "outputs": [
    {
     "data": {
      "text/plain": [
       "array([[[ 1,  2,  3,  4],\n",
       "        [ 5,  6,  7,  8],\n",
       "        [ 9, 10, 11, 12]],\n",
       "\n",
       "       [[13, 14, 15, 16],\n",
       "        [17, 18, 19, 20],\n",
       "        [21, 22, 23, 24]],\n",
       "\n",
       "       [[25, 26, 27, 28],\n",
       "        [29, 30, 31, 32],\n",
       "        [33, 34, 35, 36]]])"
      ]
     },
     "execution_count": 24,
     "metadata": {},
     "output_type": "execute_result"
    }
   ],
   "source": [
    "tensor = np.array(range(1,37)) # shape (3,3,4)\n",
    "tensor.reshape(3,3,4)"
   ]
  },
  {
   "cell_type": "code",
   "execution_count": 26,
   "id": "d356c2d5",
   "metadata": {},
   "outputs": [
    {
     "data": {
      "text/plain": [
       "array([[ 1,  2,  3,  4,  5,  6,  7,  8,  9],\n",
       "       [10, 11, 12, 13, 14, 15, 16, 17, 18],\n",
       "       [19, 20, 21, 22, 23, 24, 25, 26, 27],\n",
       "       [28, 29, 30, 31, 32, 33, 34, 35, 36]])"
      ]
     },
     "execution_count": 26,
     "metadata": {},
     "output_type": "execute_result"
    }
   ],
   "source": [
    "tensor = tensor.reshape(-1,9)\n",
    "tensor"
   ]
  },
  {
   "cell_type": "code",
   "execution_count": 28,
   "id": "818ed203",
   "metadata": {},
   "outputs": [
    {
     "name": "stdout",
     "output_type": "stream",
     "text": [
      "[1 2 3 4 5 6]\n",
      "[1 2 3 4 5 6]\n",
      "[1 2 3 4 5 6]\n"
     ]
    }
   ],
   "source": [
    "print(arr.flatten())\n",
    "print(arr.reshape(1,6).flatten())\n",
    "print(arr.reshape(3,1,2).flatten())"
   ]
  },
  {
   "cell_type": "code",
   "execution_count": 45,
   "id": "fa59e296",
   "metadata": {},
   "outputs": [
    {
     "name": "stdout",
     "output_type": "stream",
     "text": [
      "[ 0  1  2  3  4  5  6  7  8  9 10 11 12 13 14 15 16 17 18 19 20 21 22 23\n",
      " 24 25 26 27 28 29]\n",
      "[0 2 4 6 8]\n",
      "[-2.  -1.5 -1.  -0.5  0.   0.5  1.   1.5  2. ]\n",
      "[10  9  8  7  6  5  4  3  2  1]\n"
     ]
    }
   ],
   "source": [
    "print(np.arange(30))\n",
    "print(np.arange(0,10,2))\n",
    "print(np.arange(-2,2.5,0.5))\n",
    "print(np.arange(10,0,-1))"
   ]
  },
  {
   "cell_type": "code",
   "execution_count": 38,
   "id": "a7cf489a",
   "metadata": {},
   "outputs": [
    {
     "name": "stdout",
     "output_type": "stream",
     "text": [
      "[[ 1  2  3  4  5]\n",
      " [ 6  7  8  9 10]\n",
      " [11 12 13 14 15]\n",
      " [16 17 18 19 20]\n",
      " [21 22 23 24 25]]\n"
     ]
    }
   ],
   "source": [
    "print(np.arange(1,26).reshape(5,5))"
   ]
  },
  {
   "cell_type": "code",
   "execution_count": 42,
   "id": "ac7f397b",
   "metadata": {},
   "outputs": [
    {
     "name": "stdout",
     "output_type": "stream",
     "text": [
      "[[100 110 120 130 140]\n",
      " [150 160 170 180 190]]\n"
     ]
    }
   ],
   "source": [
    "print(np.arange(100,191,10).reshape(2,5))"
   ]
  },
  {
   "cell_type": "code",
   "execution_count": 49,
   "id": "3c1a9a04",
   "metadata": {},
   "outputs": [
    {
     "name": "stdout",
     "output_type": "stream",
     "text": [
      "9\n",
      "[[[-2.  -1.5 -1. ]]\n",
      "\n",
      " [[-0.5  0.   0.5]]\n",
      "\n",
      " [[ 1.   1.5  2. ]]]\n"
     ]
    }
   ],
   "source": [
    "print(np.arange(-2,2.5,0.5).size)\n",
    "print(np.arange(-2,2.5,0.5).reshape(3,1,3))"
   ]
  },
  {
   "cell_type": "code",
   "execution_count": 55,
   "id": "0f14de0c",
   "metadata": {},
   "outputs": [
    {
     "name": "stdout",
     "output_type": "stream",
     "text": [
      "[0 0 0 0 0]\n",
      "[0 0 0 0 0]\n",
      "[[0. 0. 0.]\n",
      " [0. 0. 0.]]\n"
     ]
    }
   ],
   "source": [
    "print(np.zeros(shape=(5,),dtype=np.int8))\n",
    "print(np.zeros((5),int)) # shape이기때문에 괄호가 들어가야함\n",
    "print(np.zeros((2,3)))"
   ]
  },
  {
   "cell_type": "code",
   "execution_count": 56,
   "id": "362ae188",
   "metadata": {},
   "outputs": [
    {
     "name": "stdout",
     "output_type": "stream",
     "text": [
      "[1 1 1 1 1]\n",
      "[1 1 1 1 1]\n",
      "[[1. 1. 1.]\n",
      " [1. 1. 1.]]\n"
     ]
    }
   ],
   "source": [
    "print(np.ones(shape=(5,),dtype=np.int8))\n",
    "print(np.ones((5),int)) # shape이기때문에 괄호가 들어가야함\n",
    "print(np.ones((2,3)))"
   ]
  },
  {
   "cell_type": "code",
   "execution_count": 58,
   "id": "a86da191",
   "metadata": {},
   "outputs": [
    {
     "name": "stdout",
     "output_type": "stream",
     "text": [
      "[10  9  8  7  6  5  4  3  2  1]\n",
      "[[1 1 1 1 0]\n",
      " [1 1 1 1 1]]\n"
     ]
    }
   ],
   "source": [
    "print(np.empty(shape = (10,),dtype = np.int32))\n",
    "print(np.empty((2,5),np.int8))"
   ]
  },
  {
   "cell_type": "code",
   "execution_count": 62,
   "id": "54288d99",
   "metadata": {},
   "outputs": [
    {
     "name": "stdout",
     "output_type": "stream",
     "text": [
      "[[0 0 0 0 0 0]\n",
      " [0 0 0 0 0 0]\n",
      " [0 0 0 0 0 0]\n",
      " [0 0 0 0 0 0]]\n",
      "[[1. 1. 1. 1. 1. 1. 1. 1. 1. 1.]\n",
      " [1. 1. 1. 1. 1. 1. 1. 1. 1. 1.]]\n",
      "[[3801155 5570652 6619251 7536754 6357084 7143524]\n",
      " [7209065 3014748 7340137 7602297 7274600 6029422]\n",
      " [7471216 6684783 7077993 6226021 6619236 6357094]\n",
      " [7078005 6029428 6881384 7602291 7471215 3014777]\n",
      " [7405683 6881388 6619252 7798829 7077985       0]]\n"
     ]
    }
   ],
   "source": [
    "# 동일한 형태의 0 행렬 만들기\n",
    "matrix = np.arange(24).reshape(4,6)\n",
    "print(np.zeros_like(matrix))\n",
    "\n",
    "# 동일한 형태의 1 행렬 만들기\n",
    "matrix = np.arange(-2,2,0.2,).reshape(2,10)\n",
    "print(np.ones_like(matrix))\n",
    "\n",
    "# 동일한 형태의 empty 행렬 만들기\n",
    "matrix = np.arange(30).reshape(5,6)\n",
    "print(np.empty_like(matrix))"
   ]
  },
  {
   "cell_type": "code",
   "execution_count": 66,
   "id": "50298df1",
   "metadata": {},
   "outputs": [
    {
     "name": "stdout",
     "output_type": "stream",
     "text": [
      "[['1' '' '' '' '']\n",
      " ['' '1' '' '' '']\n",
      " ['' '' '1' '' '']\n",
      " ['' '' '' '1' '']\n",
      " ['' '' '' '' '1']]\n",
      "[[1. 0.]\n",
      " [0. 1.]]\n"
     ]
    }
   ],
   "source": [
    "# 단위 행렬 생성\n",
    "print(np.identity(5, dtype=np.str_))\n",
    "print(np.identity(2))"
   ]
  },
  {
   "cell_type": "code",
   "execution_count": 78,
   "id": "613cfb3c",
   "metadata": {},
   "outputs": [
    {
     "name": "stdout",
     "output_type": "stream",
     "text": [
      "[[1 0 0 0 0]\n",
      " [0 1 0 0 0]\n",
      " [0 0 1 0 0]\n",
      " [0 0 0 1 0]\n",
      " [0 0 0 0 1]]\n",
      "[[0. 0. 0. 0. 0.]\n",
      " [1. 0. 0. 0. 0.]\n",
      " [0. 1. 0. 0. 0.]\n",
      " [0. 0. 1. 0. 0.]\n",
      " [0. 0. 0. 1. 0.]]\n",
      "[[0. 0. 0. 0. 1. 0. 0. 0. 0. 0.]\n",
      " [0. 0. 0. 0. 0. 1. 0. 0. 0. 0.]\n",
      " [0. 0. 0. 0. 0. 0. 1. 0. 0. 0.]\n",
      " [0. 0. 0. 0. 0. 0. 0. 1. 0. 0.]\n",
      " [0. 0. 0. 0. 0. 0. 0. 0. 1. 0.]]\n"
     ]
    }
   ],
   "source": [
    "# 대각선이 1로 채워지는 행렬\n",
    "# 대각선의 시작 위치 지정 가능\n",
    "# 정사각행렬도 아님\n",
    "# np.eye(size, M, k, dtype)\n",
    "print(np.eye(5,dtype=np.int8))\n",
    "print(np.eye(5,k=-1))\n",
    "print(np.eye(5,M=10,k=4))"
   ]
  },
  {
   "cell_type": "code",
   "execution_count": 83,
   "id": "125b7226",
   "metadata": {},
   "outputs": [
    {
     "name": "stdout",
     "output_type": "stream",
     "text": [
      "[[3 3 3 3 3]\n",
      " [3 3 3 3 3]]\n",
      "[['a' 'a' 'a' 'a']\n",
      " ['a' 'a' 'a' 'a']\n",
      " ['a' 'a' 'a' 'a']\n",
      " ['a' 'a' 'a' 'a']\n",
      " ['a' 'a' 'a' 'a']]\n"
     ]
    }
   ],
   "source": [
    "# 입력 값으로 채워지는 행렬\n",
    "# np.full((shape),value)\n",
    "print(np.full((2,5),3))\n",
    "print(np.full((5,4),'a'))"
   ]
  },
  {
   "cell_type": "code",
   "execution_count": 137,
   "id": "2a045ae2",
   "metadata": {
    "scrolled": true
   },
   "outputs": [
    {
     "name": "stdout",
     "output_type": "stream",
     "text": [
      "0.8991211126783976\n",
      "6\n"
     ]
    }
   ],
   "source": [
    "import random\n",
    "\n",
    "print(random.random())\n",
    "print(random.randint(0,10))"
   ]
  },
  {
   "cell_type": "code",
   "execution_count": 184,
   "id": "814e3dc2",
   "metadata": {},
   "outputs": [
    {
     "name": "stdout",
     "output_type": "stream",
     "text": [
      "0\n",
      "17\n",
      "[12  5]\n"
     ]
    }
   ],
   "source": [
    "# 주어진 범위 안에서 랜덤값 뽑기\n",
    "# 0~5 사이\n",
    "print(np.random.randint(6))\n",
    "\n",
    "# 1~19 사이\n",
    "print(np.random.randint(1,20))\n",
    "\n",
    "# 두개뽑기\n",
    "print(np.random.randint(1,20,2))"
   ]
  },
  {
   "cell_type": "code",
   "execution_count": 187,
   "id": "b8d3a68e",
   "metadata": {},
   "outputs": [
    {
     "name": "stdout",
     "output_type": "stream",
     "text": [
      "[0.38162482 0.38143047 0.07202866]\n",
      "[[0.40235549 0.79432096]\n",
      " [0.52306231 0.16163779]\n",
      " [0.76702988 0.9747341 ]]\n"
     ]
    }
   ],
   "source": [
    "# 랜덤한 값으로 채워지는 배열\n",
    "# 0~1 의 값을 출력\n",
    "print(np.random.rand(3))\n",
    "print(np.random.rand(3,2))"
   ]
  },
  {
   "cell_type": "code",
   "execution_count": 189,
   "id": "0bf30b24",
   "metadata": {},
   "outputs": [
    {
     "name": "stdout",
     "output_type": "stream",
     "text": [
      "[-1.00493758 -1.05214977 -0.6763674 ]\n",
      "[[ 0.71597847 -2.8014766 ]\n",
      " [-0.16337697  1.40119146]\n",
      " [ 0.66594333  0.54278561]]\n"
     ]
    }
   ],
   "source": [
    "# 음수도 포함\n",
    "print(np.random.randn(3))\n",
    "print(np.random.randn(3,2))"
   ]
  },
  {
   "cell_type": "code",
   "execution_count": 200,
   "id": "cf4660b9",
   "metadata": {},
   "outputs": [
    {
     "name": "stdout",
     "output_type": "stream",
     "text": [
      "21\n",
      "[5 7 9]\n",
      "[ 6 15]\n"
     ]
    }
   ],
   "source": [
    "# 모든 요소 더하기\n",
    "matrix = np.arange(1, 7).reshape(2,3)\n",
    "print(matrix.sum()) \n",
    "\n",
    "print(matrix.sum(axis=0)) # 행끼리 더하기(위 아래)\n",
    "print(matrix.sum(axis=1)) # 열끼리 더하기(좌 우)"
   ]
  },
  {
   "cell_type": "code",
   "execution_count": 201,
   "id": "58e3d960",
   "metadata": {},
   "outputs": [
    {
     "name": "stdout",
     "output_type": "stream",
     "text": [
      "[[[ 1  2  3]\n",
      "  [ 4  5  6]]\n",
      "\n",
      " [[ 7  8  9]\n",
      "  [10 11 12]]\n",
      "\n",
      " [[13 14 15]\n",
      "  [16 17 18]]]\n",
      "171\n",
      "[[21 24 27]\n",
      " [30 33 36]]\n",
      "[[ 5  7  9]\n",
      " [17 19 21]\n",
      " [29 31 33]]\n",
      "[[ 6 15]\n",
      " [24 33]\n",
      " [42 51]]\n"
     ]
    }
   ],
   "source": [
    "# 3차언 배열 합\n",
    "tensor = np.arange(1,19).reshape(3,2,3)\n",
    "print(tensor)\n",
    "print(tensor.sum())\n",
    "\n",
    "print(tensor.sum(axis=0)) # np.sum(tensor,axis=0)\n",
    "print(tensor.sum(axis=1))\n",
    "print(tensor.sum(axis=2))"
   ]
  },
  {
   "cell_type": "code",
   "execution_count": 198,
   "id": "9db3ffdb",
   "metadata": {},
   "outputs": [
    {
     "name": "stdout",
     "output_type": "stream",
     "text": [
      "3.5\n",
      "[2.5 3.5 4.5]\n",
      "[2. 5.]\n"
     ]
    }
   ],
   "source": [
    "# 평균 - 사용법은 합과 동일\n",
    "print(matrix.mean())\n",
    "print(matrix.mean(axis=0))\n",
    "print(matrix.mean(axis=1))"
   ]
  },
  {
   "cell_type": "code",
   "execution_count": 204,
   "id": "8b3e445d",
   "metadata": {},
   "outputs": [
    {
     "name": "stdout",
     "output_type": "stream",
     "text": [
      "1.707825127659933\n",
      "[1.5 1.5 1.5]\n",
      "[0.81649658 0.81649658]\n"
     ]
    }
   ],
   "source": [
    "# 표준편차\n",
    "print(matrix.std())\n",
    "print(matrix.std(axis=0))\n",
    "print(matrix.std(axis=1))"
   ]
  },
  {
   "cell_type": "code",
   "execution_count": 208,
   "id": "9fb6da00",
   "metadata": {},
   "outputs": [
    {
     "name": "stdout",
     "output_type": "stream",
     "text": [
      "[[  2.71828183   7.3890561   20.08553692]\n",
      " [ 54.59815003 148.4131591  403.42879349]]\n",
      "[[0.         0.69314718 1.09861229]\n",
      " [1.38629436 1.60943791 1.79175947]]\n",
      "[[1.         1.41421356 1.73205081]\n",
      " [2.         2.23606798 2.44948974]]\n",
      "[[ 0.84147098  0.90929743  0.14112001]\n",
      " [-0.7568025  -0.95892427 -0.2794155 ]]\n",
      "[[ 0.54030231 -0.41614684 -0.9899925 ]\n",
      " [-0.65364362  0.28366219  0.96017029]]\n",
      "[[ 1.55740772 -2.18503986 -0.14254654]\n",
      " [ 1.15782128 -3.38051501 -0.29100619]]\n"
     ]
    }
   ],
   "source": [
    "# 지수\n",
    "print(np.exp(matrix))\n",
    "\n",
    "# 로그\n",
    "print(np.log(matrix))\n",
    "\n",
    "# 제곱근\n",
    "print(np.sqrt(matrix))\n",
    "\n",
    "# 삼각함수\n",
    "print(np.sin(matrix))\n",
    "print(np.cos(matrix))\n",
    "print(np.tan(matrix))"
   ]
  },
  {
   "cell_type": "code",
   "execution_count": 219,
   "id": "a985f169",
   "metadata": {},
   "outputs": [
    {
     "name": "stdout",
     "output_type": "stream",
     "text": [
      "[86 39 65 84 22]\n",
      "[22 39 65 84 86]\n",
      "[86 84 65 39 22]\n"
     ]
    }
   ],
   "source": [
    "# 1차원 배열 정렬\n",
    "# randint를 사용하여 1~100 숫자 중 5개를 뽑아 배열 생성\n",
    "vector = np.array([np.random.randint(1,101)\n",
    "                   for n in range(5)])\n",
    "print(vector)\n",
    "\n",
    "print(np.sort(vector))       # 오름차순으로 정렬\n",
    "print(np.sort(vector)[::-1]) # 내림차순으로 정렬"
   ]
  },
  {
   "cell_type": "code",
   "execution_count": 228,
   "id": "bf7e2127",
   "metadata": {},
   "outputs": [
    {
     "name": "stdout",
     "output_type": "stream",
     "text": [
      "[[19 93 66 69 36]\n",
      " [81 42 21 74 73]\n",
      " [72 76  5 57  8]\n",
      " [10 38 88 39 39]]\n",
      "[[19 36 66 69 93]\n",
      " [21 42 73 74 81]\n",
      " [ 5  8 57 72 76]\n",
      " [10 38 39 39 88]]\n",
      "[[10 38  5 39  8]\n",
      " [19 42 21 57 36]\n",
      " [72 76 66 69 39]\n",
      " [81 93 88 74 73]]\n"
     ]
    }
   ],
   "source": [
    "# 2차원 배열 정렬\n",
    "# randint를 사용하여 1~100 숫자 중 20개를 뽑아 배열 생성\n",
    "matrix = np.array([np.random.randint(1,101) \n",
    "                   for n in range(20)]).reshape(4,5)\n",
    "print(matrix)\n",
    "\n",
    "print(np.sort(matrix))           # 열 기준으로 정렬\n",
    "print(np.sort(matrix, axis = 0)) # 행 기준으로 정렬"
   ]
  },
  {
   "cell_type": "code",
   "execution_count": 237,
   "id": "789b3067",
   "metadata": {},
   "outputs": [
    {
     "name": "stdout",
     "output_type": "stream",
     "text": [
      "[[1 2 3]\n",
      " [4 5 6]]\n"
     ]
    }
   ],
   "source": [
    "# 배열 합치기\n",
    "# 수직으로 합치기\n",
    "vector1 = np.array([1,2,3])\n",
    "vector2 = np.array([4,5,6])\n",
    "\n",
    "print(np.vstack([vector1, vector2]))"
   ]
  },
  {
   "cell_type": "code",
   "execution_count": 235,
   "id": "99da7682",
   "metadata": {},
   "outputs": [
    {
     "name": "stdout",
     "output_type": "stream",
     "text": [
      "[[1 4]\n",
      " [2 5]\n",
      " [3 6]]\n"
     ]
    }
   ],
   "source": [
    "# 수평으로 합치기\n",
    "vector1 = np.array([1,2,3]).reshape(3,1)\n",
    "vector2 = np.array([4,5,6]).reshape(3,1)\n",
    "\n",
    "print(np.hstack([vector1, vector2]))"
   ]
  },
  {
   "cell_type": "code",
   "execution_count": 242,
   "id": "31c2a8d8",
   "metadata": {
    "scrolled": false
   },
   "outputs": [
    {
     "name": "stdout",
     "output_type": "stream",
     "text": [
      "[1 2 3 4 5 6]\n",
      "[[1 4]\n",
      " [2 5]\n",
      " [3 6]]\n"
     ]
    }
   ],
   "source": [
    "# 배열 합치기\n",
    "vector1 = np.array([1,2,3])\n",
    "vector2 = np.array([4,5,6])\n",
    "print(np.concatenate([vector1, vector2], axis=0)) # 1차원은 수직으로 결합이 안됨\n",
    "\n",
    "vector1 = np.array([1,2,3]).reshape(3,1)\n",
    "vector2 = np.array([4,5,6]).reshape(3,1)\n",
    "print(np.concatenate([vector1, vector2], axis=1))"
   ]
  },
  {
   "cell_type": "code",
   "execution_count": 251,
   "id": "e3fba2e0",
   "metadata": {},
   "outputs": [
    {
     "name": "stdout",
     "output_type": "stream",
     "text": [
      "[[1 2]\n",
      " [3 1]\n",
      " [2 3]]\n",
      "[[4]\n",
      " [5]\n",
      " [6]]\n",
      "[[1 2 4]\n",
      " [3 1 5]\n",
      " [2 3 6]]\n"
     ]
    }
   ],
   "source": [
    "# 매트릭스와 벡터합치기\n",
    "matrix1 = np.array([[1,2,3],[1,2,3]]).reshape(3,2)\n",
    "vector2 = np.array([4,5,6]).reshape(3,1)\n",
    "print(matrix1)\n",
    "print(vector2)\n",
    "print(np.concatenate([matrix1, vector2], axis=1))"
   ]
  },
  {
   "cell_type": "code",
   "execution_count": 257,
   "id": "60c1fc49",
   "metadata": {},
   "outputs": [
    {
     "name": "stdout",
     "output_type": "stream",
     "text": [
      "[[1 2 5 6]\n",
      " [3 4 7 8]]\n"
     ]
    }
   ],
   "source": [
    "# 2개 이상의 배열을 수직, 수평으로 합치기\n",
    "matrix1 = np.arange(1,5).reshape(2,2)\n",
    "matrix2 = np.arange(5,9).reshape(2,2)\n",
    "print(np.concatenate([matrix1, matrix2], axis=1))"
   ]
  },
  {
   "cell_type": "code",
   "execution_count": 258,
   "id": "6b5d5050",
   "metadata": {},
   "outputs": [
    {
     "name": "stdout",
     "output_type": "stream",
     "text": [
      "[[5 6]]\n",
      "[[5]\n",
      " [6]]\n",
      "[[5]\n",
      " [6]]\n"
     ]
    }
   ],
   "source": [
    "# 행/열 바꾸기\n",
    "matrix3 = np.array([[5,6]])\n",
    "print(matrix3)\n",
    "print(matrix3.transpose())\n",
    "print(matrix3.T)"
   ]
  },
  {
   "cell_type": "code",
   "execution_count": 264,
   "id": "590da71c",
   "metadata": {},
   "outputs": [
    {
     "name": "stdout",
     "output_type": "stream",
     "text": [
      "[[1 2]\n",
      " [3 4]\n",
      " [5 6]]\n",
      "[[1 2 5]\n",
      " [3 4 6]]\n"
     ]
    }
   ],
   "source": [
    "print(np.concatenate([matrix1, matrix3]))\n",
    "print(np.concatenate([matrix1, matrix3.T], axis=1))"
   ]
  },
  {
   "cell_type": "code",
   "execution_count": 270,
   "id": "ae0de142",
   "metadata": {},
   "outputs": [
    {
     "name": "stdout",
     "output_type": "stream",
     "text": [
      "[[ 1  2  3  4  5]\n",
      " [ 6  7  8  9 10]]\n",
      "9 0\n",
      "[1 1 1 1 1]\n"
     ]
    }
   ],
   "source": [
    "a = np.arange(1,11).reshape(2,5)\n",
    "print(a)\n",
    "print(np.argmax(a),np.argmin(a))\n",
    "print(np.argmax(a, axis=0)) # 수직(열)방향으로 max값 index 찾기"
   ]
  },
  {
   "cell_type": "code",
   "execution_count": 273,
   "id": "ccdc7148",
   "metadata": {},
   "outputs": [
    {
     "name": "stdout",
     "output_type": "stream",
     "text": [
      "[[1 2 3 4]\n",
      " [2 3 4 1]\n",
      " [3 4 1 2]]\n",
      "[3 2 1]\n",
      "[2 2 1 0]\n"
     ]
    }
   ],
   "source": [
    "b = np.array([[1,2,3,4],[2,3,4,1],[3,4,1,2]])\n",
    "print(b)\n",
    "print(np.argmax(b, axis = 1))\n",
    "print(np.argmax(b, axis = 0))"
   ]
  },
  {
   "cell_type": "code",
   "execution_count": 277,
   "id": "425a40e6",
   "metadata": {},
   "outputs": [
    {
     "name": "stdout",
     "output_type": "stream",
     "text": [
      "[ 1  2  3  4  5  6  7  8  9 10]\n",
      "[3 4 5 6]\n",
      "[4 5 6 7]\n"
     ]
    }
   ],
   "source": [
    "# 배열 인덱싱(Fancy Index)\n",
    "a = np.arange(1,11)\n",
    "b = np.array([3,4,5,6])\n",
    "print(a)\n",
    "print(b)\n",
    "print(a[b]) # 인덱스의 값을 가지는 배열을 통해 인덱싱"
   ]
  },
  {
   "cell_type": "code",
   "execution_count": 280,
   "id": "0492ad1d",
   "metadata": {},
   "outputs": [
    {
     "name": "stdout",
     "output_type": "stream",
     "text": [
      "[10 11 12 13 14 15 16 17 18 19]\n",
      "9\n",
      "19\n"
     ]
    }
   ],
   "source": [
    "a = np.arange(10,20)\n",
    "b = np.argmax(a)\n",
    "print(a)\n",
    "print(b)\n",
    "print(a[b])"
   ]
  }
 ],
 "metadata": {
  "kernelspec": {
   "display_name": "Python 3 (ipykernel)",
   "language": "python",
   "name": "python3"
  },
  "language_info": {
   "codemirror_mode": {
    "name": "ipython",
    "version": 3
   },
   "file_extension": ".py",
   "mimetype": "text/x-python",
   "name": "python",
   "nbconvert_exporter": "python",
   "pygments_lexer": "ipython3",
   "version": "3.9.12"
  }
 },
 "nbformat": 4,
 "nbformat_minor": 5
}
