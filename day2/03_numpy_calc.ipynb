{
 "cells": [
  {
   "cell_type": "code",
   "execution_count": 3,
   "id": "207a26d4",
   "metadata": {},
   "outputs": [],
   "source": [
    "import numpy as np"
   ]
  },
  {
   "cell_type": "code",
   "execution_count": 8,
   "id": "d071c9a2",
   "metadata": {},
   "outputs": [
    {
     "name": "stdout",
     "output_type": "stream",
     "text": [
      "[1, 2, 3, 4, 5, 6]\n",
      "[5 7 9]\n"
     ]
    }
   ],
   "source": [
    "list1 = [1,2,3]\n",
    "list2 = [4,5,6]\n",
    "print(list1 + list2) # 리스트끼리 요소 연산은 불가능\n",
    "\n",
    "arr1 = np.array([1,2,3])\n",
    "arr2 = np.array([4,5,6])\n",
    "print(arr1 + arr2) # 요소끼리 연산이 가능"
   ]
  },
  {
   "cell_type": "code",
   "execution_count": 11,
   "id": "fcf271db",
   "metadata": {},
   "outputs": [
    {
     "name": "stdout",
     "output_type": "stream",
     "text": [
      "[[12. 14. 16.]\n",
      " [18. 20. 22.]]\n",
      "[[10. 10. 10.]\n",
      " [10. 10. 10.]]\n",
      "[[11. 24. 39.]\n",
      " [56. 75. 96.]]\n",
      "[[0.09090909 0.16666667 0.23076923]\n",
      " [0.28571429 0.33333333 0.375     ]]\n",
      "[[1.00000000e+00 4.09600000e+03 1.59432300e+06]\n",
      " [2.68435456e+08 3.05175781e+10 2.82110991e+12]]\n",
      "[[11.  6.  4.]\n",
      " [ 3.  3.  2.]]\n",
      "[[0. 0. 1.]\n",
      " [2. 0. 4.]]\n"
     ]
    }
   ],
   "source": [
    "# 모양이 같은 배열 연산\n",
    "arr1 = np.arange(1, 7, dtype=np.float32).reshape(2,3)\n",
    "arr2 = np.arange(11, 17, dtype=np.int32).reshape(2,3)\n",
    "print(arr1 + arr2) # float와 int를 더하면 float가 됨\n",
    "print(arr2 - arr1)\n",
    "print(arr1 * arr2)\n",
    "print(arr1 / arr2)\n",
    "print(arr1 ** arr2)\n",
    "print(arr2 // arr1)\n",
    "print(arr2 % arr1)"
   ]
  },
  {
   "cell_type": "code",
   "execution_count": 16,
   "id": "8c32e81b",
   "metadata": {},
   "outputs": [
    {
     "name": "stdout",
     "output_type": "stream",
     "text": [
      "[[12. 14. 16.]\n",
      " [18. 20. 22.]]\n",
      "[[-10. -10. -10.]\n",
      " [-10. -10. -10.]]\n",
      "[[11. 24. 39.]\n",
      " [56. 75. 96.]]\n",
      "[[0.09090909 0.16666667 0.23076923]\n",
      " [0.28571429 0.33333333 0.375     ]]\n"
     ]
    }
   ],
   "source": [
    "# 산술연산\n",
    "print(np.add(arr1, arr2))\n",
    "print(np.subtract(arr1, arr2))\n",
    "print(np.multiply(arr1, arr2))\n",
    "print(np.divide(arr1, arr2))"
   ]
  },
  {
   "cell_type": "code",
   "execution_count": 35,
   "id": "62d9020b",
   "metadata": {},
   "outputs": [
    {
     "ename": "NameError",
     "evalue": "name 'arr4' is not defined",
     "output_type": "error",
     "traceback": [
      "\u001b[1;31m---------------------------------------------------------------------------\u001b[0m",
      "\u001b[1;31mNameError\u001b[0m                                 Traceback (most recent call last)",
      "Input \u001b[1;32mIn [35]\u001b[0m, in \u001b[0;36m<cell line: 4>\u001b[1;34m()\u001b[0m\n\u001b[0;32m      2\u001b[0m arr3 \u001b[38;5;241m=\u001b[39m np\u001b[38;5;241m.\u001b[39marange(\u001b[38;5;241m10\u001b[39m)\u001b[38;5;241m.\u001b[39mreshape(\u001b[38;5;241m5\u001b[39m,\u001b[38;5;241m2\u001b[39m)\n\u001b[0;32m      3\u001b[0m arr3 \u001b[38;5;241m=\u001b[39m np\u001b[38;5;241m.\u001b[39marange(\u001b[38;5;241m10\u001b[39m)\u001b[38;5;241m.\u001b[39mreshape(\u001b[38;5;241m2\u001b[39m,\u001b[38;5;241m5\u001b[39m)\n\u001b[1;32m----> 4\u001b[0m \u001b[38;5;28mprint\u001b[39m(arr3 \u001b[38;5;241m+\u001b[39m \u001b[43marr4\u001b[49m)\n",
      "\u001b[1;31mNameError\u001b[0m: name 'arr4' is not defined"
     ]
    }
   ],
   "source": [
    "# Broadcast - 연산하고자 하는 배열의 모양이 다른 경우의 연산\n",
    "arr3 = np.arange(10).reshape(5,2)\n",
    "arr3 = np.arange(10).reshape(2,5)\n",
    "print(arr3 + arr4) # 배열의 모양이 다르기때문에 오류"
   ]
  },
  {
   "cell_type": "code",
   "execution_count": 36,
   "id": "9a25ee15",
   "metadata": {},
   "outputs": [
    {
     "name": "stdout",
     "output_type": "stream",
     "text": [
      "[11 12 13]\n",
      "[[11 12 13]\n",
      " [14 15 16]]\n"
     ]
    }
   ],
   "source": [
    "scalar = 10\n",
    "vector = np.array([1,2,3])\n",
    "print(scalar + vector) # 자동으로 스칼라를 broadcast하여 벡터랑 연산이 가능하게 해줌\n",
    "\n",
    "scalar = 10\n",
    "matrix = np.array([[1,2,3],[4,5,6]])\n",
    "print(scalar + matrix)"
   ]
  },
  {
   "cell_type": "code",
   "execution_count": 24,
   "id": "8a7a3093",
   "metadata": {},
   "outputs": [
    {
     "name": "stdout",
     "output_type": "stream",
     "text": [
      "[[[11 12 13]\n",
      "  [14 15 16]]\n",
      "\n",
      " [[17 18 19]\n",
      "  [20 21 22]]\n",
      "\n",
      " [[23 24 25]\n",
      "  [26 27 28]]]\n"
     ]
    }
   ],
   "source": [
    "scalar = 10\n",
    "tensor = np.arange(1,19).reshape(3,2,3)\n",
    "print(scalar + tensor)"
   ]
  },
  {
   "cell_type": "code",
   "execution_count": 34,
   "id": "794ecb2d",
   "metadata": {},
   "outputs": [
    {
     "name": "stdout",
     "output_type": "stream",
     "text": [
      "[[12 14 16]\n",
      " [15 17 19]\n",
      " [18 20 22]]\n"
     ]
    }
   ],
   "source": [
    "matrix = np.arange(1,10).reshape(3,3)\n",
    "vector = np.arange(11,14).reshape(1,3)\n",
    "print(matrix + vector) \n",
    "# 다른 차원끼리 모양만 맞으면 자동으로 broadcast 해줌"
   ]
  },
  {
   "cell_type": "code",
   "execution_count": 37,
   "id": "03bc607e",
   "metadata": {},
   "outputs": [
    {
     "name": "stdout",
     "output_type": "stream",
     "text": [
      "[1 2 3]\n",
      "[[1]\n",
      " [2]\n",
      " [3]]\n",
      "[[2 3 4]\n",
      " [3 4 5]\n",
      " [4 5 6]]\n"
     ]
    },
    {
     "data": {
      "text/plain": [
       "<numpy.broadcast at 0x15cd9f16090>"
      ]
     },
     "execution_count": 37,
     "metadata": {},
     "output_type": "execute_result"
    }
   ],
   "source": [
    "arr1 = np.array([1,2,3])\n",
    "arr2 = np.array([1,2,3]).reshape(3,1)\n",
    "print(arr1)\n",
    "print(arr2)\n",
    "print(arr1 + arr2) \n",
    "# 각각 broadcasting을 했을 때 두개가 동일한 모양이 나올 경우 연산 가능\n",
    "\n",
    "np.broadcast(arr1, arr2) # 두 객체가 broadcast 가능한지 출력해주는 함수"
   ]
  },
  {
   "cell_type": "code",
   "execution_count": 40,
   "id": "7dea3333",
   "metadata": {},
   "outputs": [
    {
     "name": "stdout",
     "output_type": "stream",
     "text": [
      "[1 4 9]\n",
      "14\n",
      "14\n",
      "14\n"
     ]
    }
   ],
   "source": [
    "# 일반적인 곱연산\n",
    "arr1 = np.array([1,2,3])\n",
    "arr2 = np.array([1,2,3])\n",
    "print(arr1 * arr2)\n",
    "\n",
    "# np.dot 사용 행렬곱\n",
    "arr1 = np.array([1,2,3])\n",
    "arr2 = np.array([1,2,3]).T\n",
    "print(np.dot(arr1,arr2))\n",
    "print(arr1.dot(arr2))\n",
    "print(arr1 @ arr2)"
   ]
  },
  {
   "cell_type": "code",
   "execution_count": 41,
   "id": "4dc0138c",
   "metadata": {},
   "outputs": [
    {
     "name": "stdout",
     "output_type": "stream",
     "text": [
      "[[ 82  88]\n",
      " [199 214]]\n"
     ]
    }
   ],
   "source": [
    "# 2차원 배열 행렬곱\n",
    "arr3 = np.arange(1,7).reshape(2,3)\n",
    "arr4 = np.arange(11,17).reshape(3,2)\n",
    "print(np.dot(arr3, arr4))"
   ]
  }
 ],
 "metadata": {
  "kernelspec": {
   "display_name": "Python 3 (ipykernel)",
   "language": "python",
   "name": "python3"
  },
  "language_info": {
   "codemirror_mode": {
    "name": "ipython",
    "version": 3
   },
   "file_extension": ".py",
   "mimetype": "text/x-python",
   "name": "python",
   "nbconvert_exporter": "python",
   "pygments_lexer": "ipython3",
   "version": "3.9.12"
  }
 },
 "nbformat": 4,
 "nbformat_minor": 5
}
